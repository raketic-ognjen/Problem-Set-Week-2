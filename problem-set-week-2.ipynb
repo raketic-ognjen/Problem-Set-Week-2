{
 "cells": [
  {
   "cell_type": "code",
   "execution_count": 1,
   "id": "66347c73",
   "metadata": {
    "_cell_guid": "b1076dfc-b9ad-4769-8c92-a6c4dae69d19",
    "_uuid": "8f2839f25d086af736a60e9eeb907d3b93b6e0e5",
    "execution": {
     "iopub.execute_input": "2023-07-20T11:58:41.374602Z",
     "iopub.status.busy": "2023-07-20T11:58:41.374095Z",
     "iopub.status.idle": "2023-07-20T11:58:41.385769Z",
     "shell.execute_reply": "2023-07-20T11:58:41.384581Z"
    },
    "papermill": {
     "duration": 0.024514,
     "end_time": "2023-07-20T11:58:41.388979",
     "exception": false,
     "start_time": "2023-07-20T11:58:41.364465",
     "status": "completed"
    },
    "tags": []
   },
   "outputs": [],
   "source": [
    "# This Python 3 environment comes with many helpful analytics libraries installed\n",
    "# It is defined by the kaggle/python Docker image: https://github.com/kaggle/docker-python\n",
    "# For example, here's several helpful packages to load\n",
    "\n",
    "import numpy as np # linear algebra\n",
    "import pandas as pd # data processing, CSV file I/O (e.g. pd.read_csv)\n",
    "\n",
    "# Input data files are available in the read-only \"../input/\" directory\n",
    "# For example, running this (by clicking run or pressing Shift+Enter) will list all files under the input directory\n",
    "\n",
    "import os\n",
    "for dirname, _, filenames in os.walk('/kaggle/input'):\n",
    "    for filename in filenames:\n",
    "        print(os.path.join(dirname, filename))\n",
    "\n",
    "# You can write up to 20GB to the current directory (/kaggle/working/) that gets preserved as output when you create a version using \"Save & Run All\" \n",
    "# You can also write temporary files to /kaggle/temp/, but they won't be saved outside of the current session"
   ]
  },
  {
   "cell_type": "markdown",
   "id": "06bca9f8",
   "metadata": {
    "papermill": {
     "duration": 0.005551,
     "end_time": "2023-07-20T11:58:41.400594",
     "exception": false,
     "start_time": "2023-07-20T11:58:41.395043",
     "status": "completed"
    },
    "tags": []
   },
   "source": [
    "<font color='MediumBlue ' style=\"font-size:40px\"><center><b>Problem Set Week 2</b></center></font>"
   ]
  },
  {
   "cell_type": "markdown",
   "id": "fc223bf6",
   "metadata": {
    "papermill": {
     "duration": 0.005802,
     "end_time": "2023-07-20T11:58:41.412208",
     "exception": false,
     "start_time": "2023-07-20T11:58:41.406406",
     "status": "completed"
    },
    "tags": []
   },
   "source": [
    "## <font color='IndianRed'>Problem 1</font>"
   ]
  },
  {
   "cell_type": "markdown",
   "id": "e80de0f7",
   "metadata": {
    "papermill": {
     "duration": 0.004869,
     "end_time": "2023-07-20T11:58:41.424155",
     "exception": false,
     "start_time": "2023-07-20T11:58:41.419286",
     "status": "completed"
    },
    "tags": []
   },
   "source": [
    "Using the for loop and the <font color='DodgerBlue'><b>print<b></font> funtion, print out one below the other all of the cash flows from the list *cf_a* below."
   ]
  },
  {
   "cell_type": "code",
   "execution_count": 2,
   "id": "a6457904",
   "metadata": {
    "execution": {
     "iopub.execute_input": "2023-07-20T11:58:41.438814Z",
     "iopub.status.busy": "2023-07-20T11:58:41.438302Z",
     "iopub.status.idle": "2023-07-20T11:58:41.444720Z",
     "shell.execute_reply": "2023-07-20T11:58:41.442814Z"
    },
    "papermill": {
     "duration": 0.017028,
     "end_time": "2023-07-20T11:58:41.447597",
     "exception": false,
     "start_time": "2023-07-20T11:58:41.430569",
     "status": "completed"
    },
    "tags": []
   },
   "outputs": [],
   "source": [
    "cf_a = [-1000, 300, 400, 500]"
   ]
  },
  {
   "cell_type": "markdown",
   "id": "7f541340",
   "metadata": {
    "papermill": {
     "duration": 0.004759,
     "end_time": "2023-07-20T11:58:41.457662",
     "exception": false,
     "start_time": "2023-07-20T11:58:41.452903",
     "status": "completed"
    },
    "tags": []
   },
   "source": [
    "### Solution"
   ]
  },
  {
   "cell_type": "code",
   "execution_count": 3,
   "id": "408516f3",
   "metadata": {
    "execution": {
     "iopub.execute_input": "2023-07-20T11:58:41.470678Z",
     "iopub.status.busy": "2023-07-20T11:58:41.470159Z",
     "iopub.status.idle": "2023-07-20T11:58:41.477086Z",
     "shell.execute_reply": "2023-07-20T11:58:41.475280Z"
    },
    "papermill": {
     "duration": 0.017699,
     "end_time": "2023-07-20T11:58:41.480723",
     "exception": false,
     "start_time": "2023-07-20T11:58:41.463024",
     "status": "completed"
    },
    "tags": []
   },
   "outputs": [
    {
     "name": "stdout",
     "output_type": "stream",
     "text": [
      "-1000\n",
      "300\n",
      "400\n",
      "500\n"
     ]
    }
   ],
   "source": [
    "i = 0\n",
    "for i in cf_a:\n",
    "    print(i,end='\\n')\n",
    "    i+=1"
   ]
  },
  {
   "cell_type": "markdown",
   "id": "99257dd6",
   "metadata": {
    "papermill": {
     "duration": 0.007998,
     "end_time": "2023-07-20T11:58:41.494174",
     "exception": false,
     "start_time": "2023-07-20T11:58:41.486176",
     "status": "completed"
    },
    "tags": []
   },
   "source": [
    "## <font color='IndianRed'>Problem 2</font>"
   ]
  },
  {
   "cell_type": "markdown",
   "id": "8755c914",
   "metadata": {
    "papermill": {
     "duration": 0.005005,
     "end_time": "2023-07-20T11:58:41.505590",
     "exception": false,
     "start_time": "2023-07-20T11:58:41.500585",
     "status": "completed"
    },
    "tags": []
   },
   "source": [
    "Suppose you have decided to invest in project A from previous problem with the cash flows in list *cf_a* by franchising it 3 times. Using the list comprehension (see lecture notes) create the new cash flows of the franchised (i.e. tripled) project. Name the created list *cf3*."
   ]
  },
  {
   "cell_type": "markdown",
   "id": "517bca30",
   "metadata": {
    "papermill": {
     "duration": 0.005537,
     "end_time": "2023-07-20T11:58:41.517580",
     "exception": false,
     "start_time": "2023-07-20T11:58:41.512043",
     "status": "completed"
    },
    "tags": []
   },
   "source": [
    "### Solution"
   ]
  },
  {
   "cell_type": "code",
   "execution_count": 4,
   "id": "34be5e4c",
   "metadata": {
    "execution": {
     "iopub.execute_input": "2023-07-20T11:58:41.531416Z",
     "iopub.status.busy": "2023-07-20T11:58:41.530958Z",
     "iopub.status.idle": "2023-07-20T11:58:41.538060Z",
     "shell.execute_reply": "2023-07-20T11:58:41.536104Z"
    },
    "papermill": {
     "duration": 0.018343,
     "end_time": "2023-07-20T11:58:41.541394",
     "exception": false,
     "start_time": "2023-07-20T11:58:41.523051",
     "status": "completed"
    },
    "tags": []
   },
   "outputs": [
    {
     "name": "stdout",
     "output_type": "stream",
     "text": [
      "[-3000, 900, 1200, 1500]\n"
     ]
    }
   ],
   "source": [
    "cf3 = []\n",
    "\n",
    "for i in cf_a:\n",
    "    num = i * 3\n",
    "    cf3.append(num)\n",
    "    \n",
    "print(cf3)"
   ]
  },
  {
   "cell_type": "markdown",
   "id": "19f55fce",
   "metadata": {
    "papermill": {
     "duration": 0.005032,
     "end_time": "2023-07-20T11:58:41.552053",
     "exception": false,
     "start_time": "2023-07-20T11:58:41.547021",
     "status": "completed"
    },
    "tags": []
   },
   "source": [
    "## <font color='IndianRed'>Problem 3</font>"
   ]
  },
  {
   "cell_type": "markdown",
   "id": "d2023a35",
   "metadata": {
    "papermill": {
     "duration": 0.005935,
     "end_time": "2023-07-20T11:58:41.563345",
     "exception": false,
     "start_time": "2023-07-20T11:58:41.557410",
     "status": "completed"
    },
    "tags": []
   },
   "source": [
    "Some additional costs have arisen so your initial investment turned out to be 3050 dollars for all 3 franchises. Replace the old cash flow from list *cf3* with the new one."
   ]
  },
  {
   "cell_type": "markdown",
   "id": "45e68dbf",
   "metadata": {
    "papermill": {
     "duration": 0.005071,
     "end_time": "2023-07-20T11:58:41.574193",
     "exception": false,
     "start_time": "2023-07-20T11:58:41.569122",
     "status": "completed"
    },
    "tags": []
   },
   "source": [
    "### Solution"
   ]
  },
  {
   "cell_type": "code",
   "execution_count": 5,
   "id": "32013f1d",
   "metadata": {
    "execution": {
     "iopub.execute_input": "2023-07-20T11:58:41.587493Z",
     "iopub.status.busy": "2023-07-20T11:58:41.586665Z",
     "iopub.status.idle": "2023-07-20T11:58:41.597395Z",
     "shell.execute_reply": "2023-07-20T11:58:41.595582Z"
    },
    "papermill": {
     "duration": 0.021673,
     "end_time": "2023-07-20T11:58:41.601089",
     "exception": false,
     "start_time": "2023-07-20T11:58:41.579416",
     "status": "completed"
    },
    "tags": []
   },
   "outputs": [
    {
     "data": {
      "text/plain": [
       "[-3050, 900, 1200, 1500]"
      ]
     },
     "execution_count": 5,
     "metadata": {},
     "output_type": "execute_result"
    }
   ],
   "source": [
    "cf3.insert(0,-3050)\n",
    "cf3\n",
    "cf3.pop(1)\n",
    "cf3"
   ]
  },
  {
   "cell_type": "markdown",
   "id": "10335a0e",
   "metadata": {
    "papermill": {
     "duration": 0.005277,
     "end_time": "2023-07-20T11:58:41.612085",
     "exception": false,
     "start_time": "2023-07-20T11:58:41.606808",
     "status": "completed"
    },
    "tags": []
   },
   "source": [
    "## <font color='IndianRed'>Problem 4</font>"
   ]
  },
  {
   "cell_type": "markdown",
   "id": "7428a102",
   "metadata": {
    "papermill": {
     "duration": 0.005024,
     "end_time": "2023-07-20T11:58:41.622626",
     "exception": false,
     "start_time": "2023-07-20T11:58:41.617602",
     "status": "completed"
    },
    "tags": []
   },
   "source": [
    "Additional cost from previous problem has generated one additional cash flow of 240 dollars which appear in year 4. Add this new cash flow in list *cf3*."
   ]
  },
  {
   "cell_type": "markdown",
   "id": "4c4a9acf",
   "metadata": {
    "papermill": {
     "duration": 0.005292,
     "end_time": "2023-07-20T11:58:41.633465",
     "exception": false,
     "start_time": "2023-07-20T11:58:41.628173",
     "status": "completed"
    },
    "tags": []
   },
   "source": [
    "### Solution"
   ]
  },
  {
   "cell_type": "code",
   "execution_count": 6,
   "id": "88cf890b",
   "metadata": {
    "execution": {
     "iopub.execute_input": "2023-07-20T11:58:41.648848Z",
     "iopub.status.busy": "2023-07-20T11:58:41.648380Z",
     "iopub.status.idle": "2023-07-20T11:58:41.658489Z",
     "shell.execute_reply": "2023-07-20T11:58:41.656448Z"
    },
    "papermill": {
     "duration": 0.020961,
     "end_time": "2023-07-20T11:58:41.661146",
     "exception": false,
     "start_time": "2023-07-20T11:58:41.640185",
     "status": "completed"
    },
    "tags": []
   },
   "outputs": [
    {
     "data": {
      "text/plain": [
       "[-3050, 900, 1200, 1500, 240]"
      ]
     },
     "execution_count": 6,
     "metadata": {},
     "output_type": "execute_result"
    }
   ],
   "source": [
    "cf3.append(240)\n",
    "cf3"
   ]
  },
  {
   "cell_type": "markdown",
   "id": "0bc0ad3d",
   "metadata": {
    "papermill": {
     "duration": 0.00669,
     "end_time": "2023-07-20T11:58:41.674964",
     "exception": false,
     "start_time": "2023-07-20T11:58:41.668274",
     "status": "completed"
    },
    "tags": []
   },
   "source": [
    "## <font color='IndianRed'>Problem 5</font><a id='5'></a>"
   ]
  },
  {
   "cell_type": "markdown",
   "id": "60e85889",
   "metadata": {
    "papermill": {
     "duration": 0.005751,
     "end_time": "2023-07-20T11:58:41.686405",
     "exception": false,
     "start_time": "2023-07-20T11:58:41.680654",
     "status": "completed"
    },
    "tags": []
   },
   "source": [
    "Recall from the class that:"
   ]
  },
  {
   "cell_type": "markdown",
   "id": "1f4dd940",
   "metadata": {
    "papermill": {
     "duration": 0.005322,
     "end_time": "2023-07-20T11:58:41.698248",
     "exception": false,
     "start_time": "2023-07-20T11:58:41.692926",
     "status": "completed"
    },
    "tags": []
   },
   "source": [
    "i=1\n",
    "<br><font color='Green'><b>while</b></font> i<=4:\n",
    "<br>$\\hspace{5mm}$ <font color='DodgerBlue'><b>print<b></font>(i, i**2)\n",
    "<br>$\\hspace{5mm}$ i +=1"
   ]
  },
  {
   "cell_type": "markdown",
   "id": "f7c08142",
   "metadata": {
    "papermill": {
     "duration": 0.005832,
     "end_time": "2023-07-20T11:58:41.710560",
     "exception": false,
     "start_time": "2023-07-20T11:58:41.704728",
     "status": "completed"
    },
    "tags": []
   },
   "source": [
    "Using a **while loop** print out of the cumulative sum of cash flows of the project A (i.e. use cash flows from list *cf_a* not *cf3*) along with the year in which they appear. By cumulative cash flow we mean that the in output you need to see:\n",
    "* only initial investment (i.e. $-1000$) in year 0,\n",
    "* at year one output would be $-1000+300 = -700$,\n",
    "* at year 2 output would be $-1000 +300+400 = -300$ etc.\n",
    "\n",
    "Final output should be printed pairs: (year, cum_cash_flow)."
   ]
  },
  {
   "cell_type": "markdown",
   "id": "af51df76",
   "metadata": {
    "papermill": {
     "duration": 0.006434,
     "end_time": "2023-07-20T11:58:41.723362",
     "exception": false,
     "start_time": "2023-07-20T11:58:41.716928",
     "status": "completed"
    },
    "tags": []
   },
   "source": [
    "### Solution"
   ]
  },
  {
   "cell_type": "code",
   "execution_count": 7,
   "id": "f6dfb094",
   "metadata": {
    "execution": {
     "iopub.execute_input": "2023-07-20T11:58:41.739708Z",
     "iopub.status.busy": "2023-07-20T11:58:41.739230Z",
     "iopub.status.idle": "2023-07-20T11:58:41.746210Z",
     "shell.execute_reply": "2023-07-20T11:58:41.744571Z"
    },
    "papermill": {
     "duration": 0.018289,
     "end_time": "2023-07-20T11:58:41.748213",
     "exception": false,
     "start_time": "2023-07-20T11:58:41.729924",
     "status": "completed"
    },
    "tags": []
   },
   "outputs": [
    {
     "name": "stdout",
     "output_type": "stream",
     "text": [
      "(0, -1000)\n",
      "(1, -2000)\n",
      "(2, -1700)\n",
      "(3, -1300)\n"
     ]
    }
   ],
   "source": [
    "cf_a= [-1000, 300, 400, 500]\n",
    "year = 0\n",
    "cum_cash_flow = cf_a[0]\n",
    "while year < len(cf_a):\n",
    "    print((year,cum_cash_flow))\n",
    "    cum_cash_flow +=cf_a[year]\n",
    "    year +=1"
   ]
  },
  {
   "cell_type": "markdown",
   "id": "95aa6a3e",
   "metadata": {
    "papermill": {
     "duration": 0.005625,
     "end_time": "2023-07-20T11:58:41.760279",
     "exception": false,
     "start_time": "2023-07-20T11:58:41.754654",
     "status": "completed"
    },
    "tags": []
   },
   "source": []
  }
 ],
 "metadata": {
  "kernelspec": {
   "display_name": "Python 3",
   "language": "python",
   "name": "python3"
  },
  "language_info": {
   "codemirror_mode": {
    "name": "ipython",
    "version": 3
   },
   "file_extension": ".py",
   "mimetype": "text/x-python",
   "name": "python",
   "nbconvert_exporter": "python",
   "pygments_lexer": "ipython3",
   "version": "3.10.12"
  },
  "papermill": {
   "default_parameters": {},
   "duration": 11.542522,
   "end_time": "2023-07-20T11:58:42.793324",
   "environment_variables": {},
   "exception": null,
   "input_path": "__notebook__.ipynb",
   "output_path": "__notebook__.ipynb",
   "parameters": {},
   "start_time": "2023-07-20T11:58:31.250802",
   "version": "2.4.0"
  }
 },
 "nbformat": 4,
 "nbformat_minor": 5
}
