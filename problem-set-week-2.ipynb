{
 "cells": [
  {
   "cell_type": "code",
   "execution_count": 1,
   "id": "789dc047",
   "metadata": {
    "_cell_guid": "b1076dfc-b9ad-4769-8c92-a6c4dae69d19",
    "_uuid": "8f2839f25d086af736a60e9eeb907d3b93b6e0e5",
    "execution": {
     "iopub.execute_input": "2023-07-19T22:01:11.024414Z",
     "iopub.status.busy": "2023-07-19T22:01:11.023956Z",
     "iopub.status.idle": "2023-07-19T22:01:11.038021Z",
     "shell.execute_reply": "2023-07-19T22:01:11.036971Z"
    },
    "papermill": {
     "duration": 0.026456,
     "end_time": "2023-07-19T22:01:11.040673",
     "exception": false,
     "start_time": "2023-07-19T22:01:11.014217",
     "status": "completed"
    },
    "tags": []
   },
   "outputs": [],
   "source": [
    "# This Python 3 environment comes with many helpful analytics libraries installed\n",
    "# It is defined by the kaggle/python Docker image: https://github.com/kaggle/docker-python\n",
    "# For example, here's several helpful packages to load\n",
    "\n",
    "import numpy as np # linear algebra\n",
    "import pandas as pd # data processing, CSV file I/O (e.g. pd.read_csv)\n",
    "\n",
    "# Input data files are available in the read-only \"../input/\" directory\n",
    "# For example, running this (by clicking run or pressing Shift+Enter) will list all files under the input directory\n",
    "\n",
    "import os\n",
    "for dirname, _, filenames in os.walk('/kaggle/input'):\n",
    "    for filename in filenames:\n",
    "        print(os.path.join(dirname, filename))\n",
    "\n",
    "# You can write up to 20GB to the current directory (/kaggle/working/) that gets preserved as output when you create a version using \"Save & Run All\" \n",
    "# You can also write temporary files to /kaggle/temp/, but they won't be saved outside of the current session"
   ]
  },
  {
   "cell_type": "markdown",
   "id": "c742dbc4",
   "metadata": {
    "papermill": {
     "duration": 0.006446,
     "end_time": "2023-07-19T22:01:11.054073",
     "exception": false,
     "start_time": "2023-07-19T22:01:11.047627",
     "status": "completed"
    },
    "tags": []
   },
   "source": [
    "<font color='MediumBlue ' style=\"font-size:40px\"><center><b>Problem Set Week 2</b></center></font>"
   ]
  },
  {
   "cell_type": "markdown",
   "id": "a99ae21b",
   "metadata": {
    "papermill": {
     "duration": 0.006242,
     "end_time": "2023-07-19T22:01:11.066979",
     "exception": false,
     "start_time": "2023-07-19T22:01:11.060737",
     "status": "completed"
    },
    "tags": []
   },
   "source": [
    "## <font color='IndianRed'>Problem 1</font>"
   ]
  },
  {
   "cell_type": "markdown",
   "id": "effaa686",
   "metadata": {
    "papermill": {
     "duration": 0.00641,
     "end_time": "2023-07-19T22:01:11.079893",
     "exception": false,
     "start_time": "2023-07-19T22:01:11.073483",
     "status": "completed"
    },
    "tags": []
   },
   "source": [
    "Using the for loop and the <font color='DodgerBlue'><b>print<b></font> funtion, print out one below the other all of the cash flows from the list *cf_a* below."
   ]
  },
  {
   "cell_type": "code",
   "execution_count": 2,
   "id": "cf52dfde",
   "metadata": {
    "execution": {
     "iopub.execute_input": "2023-07-19T22:01:11.095286Z",
     "iopub.status.busy": "2023-07-19T22:01:11.094781Z",
     "iopub.status.idle": "2023-07-19T22:01:11.101173Z",
     "shell.execute_reply": "2023-07-19T22:01:11.099832Z"
    },
    "papermill": {
     "duration": 0.017513,
     "end_time": "2023-07-19T22:01:11.103928",
     "exception": false,
     "start_time": "2023-07-19T22:01:11.086415",
     "status": "completed"
    },
    "tags": []
   },
   "outputs": [],
   "source": [
    "cf_a = [-1000, 300, 400, 500]"
   ]
  },
  {
   "cell_type": "markdown",
   "id": "e2d5ba48",
   "metadata": {
    "papermill": {
     "duration": 0.006946,
     "end_time": "2023-07-19T22:01:11.117685",
     "exception": false,
     "start_time": "2023-07-19T22:01:11.110739",
     "status": "completed"
    },
    "tags": []
   },
   "source": [
    "### Solution"
   ]
  },
  {
   "cell_type": "code",
   "execution_count": 3,
   "id": "3e64135d",
   "metadata": {
    "execution": {
     "iopub.execute_input": "2023-07-19T22:01:11.134131Z",
     "iopub.status.busy": "2023-07-19T22:01:11.133541Z",
     "iopub.status.idle": "2023-07-19T22:01:11.140302Z",
     "shell.execute_reply": "2023-07-19T22:01:11.139303Z"
    },
    "papermill": {
     "duration": 0.018851,
     "end_time": "2023-07-19T22:01:11.143526",
     "exception": false,
     "start_time": "2023-07-19T22:01:11.124675",
     "status": "completed"
    },
    "tags": []
   },
   "outputs": [
    {
     "name": "stdout",
     "output_type": "stream",
     "text": [
      "-1000\n",
      "300\n",
      "400\n",
      "500\n"
     ]
    }
   ],
   "source": [
    "i = 0\n",
    "for i in cf_a:\n",
    "    print(i,end='\\n')\n",
    "    i+=1"
   ]
  },
  {
   "cell_type": "markdown",
   "id": "061690fd",
   "metadata": {
    "papermill": {
     "duration": 0.006575,
     "end_time": "2023-07-19T22:01:11.156984",
     "exception": false,
     "start_time": "2023-07-19T22:01:11.150409",
     "status": "completed"
    },
    "tags": []
   },
   "source": [
    "## <font color='IndianRed'>Problem 2</font>"
   ]
  },
  {
   "cell_type": "markdown",
   "id": "9ab26eda",
   "metadata": {
    "papermill": {
     "duration": 0.008062,
     "end_time": "2023-07-19T22:01:11.172705",
     "exception": false,
     "start_time": "2023-07-19T22:01:11.164643",
     "status": "completed"
    },
    "tags": []
   },
   "source": [
    "Suppose you have decided to invest in project A from previous problem with the cash flows in list *cf_a* by franchising it 3 times. Using the list comprehension (see lecture notes) create the new cash flows of the franchised (i.e. tripled) project. Name the created list *cf3*."
   ]
  },
  {
   "cell_type": "markdown",
   "id": "cd059f07",
   "metadata": {
    "papermill": {
     "duration": 0.006551,
     "end_time": "2023-07-19T22:01:11.186313",
     "exception": false,
     "start_time": "2023-07-19T22:01:11.179762",
     "status": "completed"
    },
    "tags": []
   },
   "source": [
    "### Solution"
   ]
  },
  {
   "cell_type": "code",
   "execution_count": null,
   "id": "7255e1aa",
   "metadata": {
    "papermill": {
     "duration": 0.006502,
     "end_time": "2023-07-19T22:01:11.199695",
     "exception": false,
     "start_time": "2023-07-19T22:01:11.193193",
     "status": "completed"
    },
    "tags": []
   },
   "outputs": [],
   "source": []
  },
  {
   "cell_type": "markdown",
   "id": "87417a0a",
   "metadata": {
    "papermill": {
     "duration": 0.006544,
     "end_time": "2023-07-19T22:01:11.212991",
     "exception": false,
     "start_time": "2023-07-19T22:01:11.206447",
     "status": "completed"
    },
    "tags": []
   },
   "source": [
    "## <font color='IndianRed'>Problem 3</font>"
   ]
  },
  {
   "cell_type": "markdown",
   "id": "11634088",
   "metadata": {
    "papermill": {
     "duration": 0.006753,
     "end_time": "2023-07-19T22:01:11.226989",
     "exception": false,
     "start_time": "2023-07-19T22:01:11.220236",
     "status": "completed"
    },
    "tags": []
   },
   "source": [
    "Some additional costs have arisen so your initial investment turned out to be 3050 dollars for all 3 franchises. Replace the old cash flow from list *cf3* with the new one."
   ]
  },
  {
   "cell_type": "markdown",
   "id": "4a04667e",
   "metadata": {
    "papermill": {
     "duration": 0.00737,
     "end_time": "2023-07-19T22:01:11.242748",
     "exception": false,
     "start_time": "2023-07-19T22:01:11.235378",
     "status": "completed"
    },
    "tags": []
   },
   "source": [
    "### Solution"
   ]
  },
  {
   "cell_type": "code",
   "execution_count": null,
   "id": "3cd0de78",
   "metadata": {
    "papermill": {
     "duration": 0.007272,
     "end_time": "2023-07-19T22:01:11.257811",
     "exception": false,
     "start_time": "2023-07-19T22:01:11.250539",
     "status": "completed"
    },
    "tags": []
   },
   "outputs": [],
   "source": []
  },
  {
   "cell_type": "markdown",
   "id": "891a94f6",
   "metadata": {
    "papermill": {
     "duration": 0.006596,
     "end_time": "2023-07-19T22:01:11.272252",
     "exception": false,
     "start_time": "2023-07-19T22:01:11.265656",
     "status": "completed"
    },
    "tags": []
   },
   "source": [
    "## <font color='IndianRed'>Problem 4</font>"
   ]
  },
  {
   "cell_type": "markdown",
   "id": "24f68ef5",
   "metadata": {
    "papermill": {
     "duration": 0.006668,
     "end_time": "2023-07-19T22:01:11.286501",
     "exception": false,
     "start_time": "2023-07-19T22:01:11.279833",
     "status": "completed"
    },
    "tags": []
   },
   "source": [
    "Additional cost from previous problem has generated one additional cash flow of 240 dollars which appear in year 4. Add this new cash flow in list *cf3*."
   ]
  },
  {
   "cell_type": "markdown",
   "id": "891ec662",
   "metadata": {
    "papermill": {
     "duration": 0.006543,
     "end_time": "2023-07-19T22:01:11.299994",
     "exception": false,
     "start_time": "2023-07-19T22:01:11.293451",
     "status": "completed"
    },
    "tags": []
   },
   "source": [
    "### Solution"
   ]
  },
  {
   "cell_type": "code",
   "execution_count": null,
   "id": "eb0d2c08",
   "metadata": {
    "papermill": {
     "duration": 0.006534,
     "end_time": "2023-07-19T22:01:11.313337",
     "exception": false,
     "start_time": "2023-07-19T22:01:11.306803",
     "status": "completed"
    },
    "tags": []
   },
   "outputs": [],
   "source": []
  },
  {
   "cell_type": "markdown",
   "id": "04995e17",
   "metadata": {
    "papermill": {
     "duration": 0.006513,
     "end_time": "2023-07-19T22:01:11.326848",
     "exception": false,
     "start_time": "2023-07-19T22:01:11.320335",
     "status": "completed"
    },
    "tags": []
   },
   "source": [
    "## <font color='IndianRed'>Problem 5</font><a id='5'></a>"
   ]
  },
  {
   "cell_type": "markdown",
   "id": "5b8054b9",
   "metadata": {
    "papermill": {
     "duration": 0.007086,
     "end_time": "2023-07-19T22:01:11.340771",
     "exception": false,
     "start_time": "2023-07-19T22:01:11.333685",
     "status": "completed"
    },
    "tags": []
   },
   "source": [
    "Recall from the class that:"
   ]
  },
  {
   "cell_type": "markdown",
   "id": "d38b8c53",
   "metadata": {
    "papermill": {
     "duration": 0.006727,
     "end_time": "2023-07-19T22:01:11.355526",
     "exception": false,
     "start_time": "2023-07-19T22:01:11.348799",
     "status": "completed"
    },
    "tags": []
   },
   "source": [
    "i=1\n",
    "<br><font color='Green'><b>while</b></font> i<=4:\n",
    "<br>$\\hspace{5mm}$ <font color='DodgerBlue'><b>print<b></font>(i, i**2)\n",
    "<br>$\\hspace{5mm}$ i +=1"
   ]
  },
  {
   "cell_type": "markdown",
   "id": "0a6579a8",
   "metadata": {
    "papermill": {
     "duration": 0.00683,
     "end_time": "2023-07-19T22:01:11.369830",
     "exception": false,
     "start_time": "2023-07-19T22:01:11.363000",
     "status": "completed"
    },
    "tags": []
   },
   "source": [
    "Using a **while loop** print out of the cumulative sum of cash flows of the project A (i.e. use cash flows from list *cf_a* not *cf3*) along with the year in which they appear. By cumulative cash flow we mean that the in output you need to see:\n",
    "* only initial investment (i.e. $-1000$) in year 0,\n",
    "* at year one output would be $-1000+300 = -700$,\n",
    "* at year 2 output would be $-1000 +300+400 = -300$ etc.\n",
    "\n",
    "Final output should be printed pairs: (year, cum_cash_flow)."
   ]
  },
  {
   "cell_type": "markdown",
   "id": "ae437221",
   "metadata": {
    "papermill": {
     "duration": 0.006757,
     "end_time": "2023-07-19T22:01:11.383869",
     "exception": false,
     "start_time": "2023-07-19T22:01:11.377112",
     "status": "completed"
    },
    "tags": []
   },
   "source": [
    "### Solution"
   ]
  },
  {
   "cell_type": "code",
   "execution_count": null,
   "id": "0d5bbf3e",
   "metadata": {
    "papermill": {
     "duration": 0.006507,
     "end_time": "2023-07-19T22:01:11.397649",
     "exception": false,
     "start_time": "2023-07-19T22:01:11.391142",
     "status": "completed"
    },
    "tags": []
   },
   "outputs": [],
   "source": []
  }
 ],
 "metadata": {
  "kernelspec": {
   "display_name": "Python 3",
   "language": "python",
   "name": "python3"
  },
  "language_info": {
   "codemirror_mode": {
    "name": "ipython",
    "version": 3
   },
   "file_extension": ".py",
   "mimetype": "text/x-python",
   "name": "python",
   "nbconvert_exporter": "python",
   "pygments_lexer": "ipython3",
   "version": "3.10.12"
  },
  "papermill": {
   "default_parameters": {},
   "duration": 14.593609,
   "end_time": "2023-07-19T22:01:12.732909",
   "environment_variables": {},
   "exception": null,
   "input_path": "__notebook__.ipynb",
   "output_path": "__notebook__.ipynb",
   "parameters": {},
   "start_time": "2023-07-19T22:00:58.139300",
   "version": "2.4.0"
  }
 },
 "nbformat": 4,
 "nbformat_minor": 5
}
