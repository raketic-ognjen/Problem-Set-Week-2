{
 "cells": [
  {
   "cell_type": "code",
   "execution_count": 1,
   "id": "0814c9fa",
   "metadata": {
    "_cell_guid": "b1076dfc-b9ad-4769-8c92-a6c4dae69d19",
    "_uuid": "8f2839f25d086af736a60e9eeb907d3b93b6e0e5",
    "execution": {
     "iopub.execute_input": "2023-07-20T12:16:45.913297Z",
     "iopub.status.busy": "2023-07-20T12:16:45.912959Z",
     "iopub.status.idle": "2023-07-20T12:16:45.924124Z",
     "shell.execute_reply": "2023-07-20T12:16:45.923367Z"
    },
    "papermill": {
     "duration": 0.022315,
     "end_time": "2023-07-20T12:16:45.926231",
     "exception": false,
     "start_time": "2023-07-20T12:16:45.903916",
     "status": "completed"
    },
    "tags": []
   },
   "outputs": [],
   "source": [
    "# This Python 3 environment comes with many helpful analytics libraries installed\n",
    "# It is defined by the kaggle/python Docker image: https://github.com/kaggle/docker-python\n",
    "# For example, here's several helpful packages to load\n",
    "\n",
    "import numpy as np # linear algebra\n",
    "import pandas as pd # data processing, CSV file I/O (e.g. pd.read_csv)\n",
    "\n",
    "# Input data files are available in the read-only \"../input/\" directory\n",
    "# For example, running this (by clicking run or pressing Shift+Enter) will list all files under the input directory\n",
    "\n",
    "import os\n",
    "for dirname, _, filenames in os.walk('/kaggle/input'):\n",
    "    for filename in filenames:\n",
    "        print(os.path.join(dirname, filename))\n",
    "\n",
    "# You can write up to 20GB to the current directory (/kaggle/working/) that gets preserved as output when you create a version using \"Save & Run All\" \n",
    "# You can also write temporary files to /kaggle/temp/, but they won't be saved outside of the current session"
   ]
  },
  {
   "cell_type": "markdown",
   "id": "8219c658",
   "metadata": {
    "papermill": {
     "duration": 0.006307,
     "end_time": "2023-07-20T12:16:45.939141",
     "exception": false,
     "start_time": "2023-07-20T12:16:45.932834",
     "status": "completed"
    },
    "tags": []
   },
   "source": [
    "<font color='MediumBlue ' style=\"font-size:40px\"><center><b>Problem Set Week 2</b></center></font>"
   ]
  },
  {
   "cell_type": "markdown",
   "id": "e4d46036",
   "metadata": {
    "papermill": {
     "duration": 0.00607,
     "end_time": "2023-07-20T12:16:45.951955",
     "exception": false,
     "start_time": "2023-07-20T12:16:45.945885",
     "status": "completed"
    },
    "tags": []
   },
   "source": [
    "## <font color='IndianRed'>Problem 1</font>"
   ]
  },
  {
   "cell_type": "markdown",
   "id": "50cd0631",
   "metadata": {
    "papermill": {
     "duration": 0.006423,
     "end_time": "2023-07-20T12:16:45.964693",
     "exception": false,
     "start_time": "2023-07-20T12:16:45.958270",
     "status": "completed"
    },
    "tags": []
   },
   "source": [
    "Using the for loop and the <font color='DodgerBlue'><b>print<b></font> funtion, print out one below the other all of the cash flows from the list *cf_a* below."
   ]
  },
  {
   "cell_type": "code",
   "execution_count": 2,
   "id": "e6238d00",
   "metadata": {
    "execution": {
     "iopub.execute_input": "2023-07-20T12:16:45.979689Z",
     "iopub.status.busy": "2023-07-20T12:16:45.979041Z",
     "iopub.status.idle": "2023-07-20T12:16:45.982937Z",
     "shell.execute_reply": "2023-07-20T12:16:45.982265Z"
    },
    "papermill": {
     "duration": 0.013637,
     "end_time": "2023-07-20T12:16:45.984791",
     "exception": false,
     "start_time": "2023-07-20T12:16:45.971154",
     "status": "completed"
    },
    "tags": []
   },
   "outputs": [],
   "source": [
    "cf_a = [-1000, 300, 400, 500]"
   ]
  },
  {
   "cell_type": "markdown",
   "id": "870a4d4f",
   "metadata": {
    "papermill": {
     "duration": 0.006191,
     "end_time": "2023-07-20T12:16:45.997335",
     "exception": false,
     "start_time": "2023-07-20T12:16:45.991144",
     "status": "completed"
    },
    "tags": []
   },
   "source": [
    "### Solution"
   ]
  },
  {
   "cell_type": "code",
   "execution_count": 3,
   "id": "e41b9df9",
   "metadata": {
    "execution": {
     "iopub.execute_input": "2023-07-20T12:16:46.011764Z",
     "iopub.status.busy": "2023-07-20T12:16:46.011015Z",
     "iopub.status.idle": "2023-07-20T12:16:46.015777Z",
     "shell.execute_reply": "2023-07-20T12:16:46.015008Z"
    },
    "papermill": {
     "duration": 0.014053,
     "end_time": "2023-07-20T12:16:46.017745",
     "exception": false,
     "start_time": "2023-07-20T12:16:46.003692",
     "status": "completed"
    },
    "tags": []
   },
   "outputs": [
    {
     "name": "stdout",
     "output_type": "stream",
     "text": [
      "-1000\n",
      "300\n",
      "400\n",
      "500\n"
     ]
    }
   ],
   "source": [
    "i = 0\n",
    "for i in cf_a:\n",
    "    print(i,end='\\n')\n",
    "    i+=1"
   ]
  },
  {
   "cell_type": "markdown",
   "id": "664adae5",
   "metadata": {
    "papermill": {
     "duration": 0.007786,
     "end_time": "2023-07-20T12:16:46.032013",
     "exception": false,
     "start_time": "2023-07-20T12:16:46.024227",
     "status": "completed"
    },
    "tags": []
   },
   "source": [
    "## <font color='IndianRed'>Problem 2</font>"
   ]
  },
  {
   "cell_type": "markdown",
   "id": "b4cf370b",
   "metadata": {
    "papermill": {
     "duration": 0.006211,
     "end_time": "2023-07-20T12:16:46.044673",
     "exception": false,
     "start_time": "2023-07-20T12:16:46.038462",
     "status": "completed"
    },
    "tags": []
   },
   "source": [
    "Suppose you have decided to invest in project A from previous problem with the cash flows in list *cf_a* by franchising it 3 times. Using the list comprehension (see lecture notes) create the new cash flows of the franchised (i.e. tripled) project. Name the created list *cf3*."
   ]
  },
  {
   "cell_type": "markdown",
   "id": "963ddd40",
   "metadata": {
    "papermill": {
     "duration": 0.006065,
     "end_time": "2023-07-20T12:16:46.057348",
     "exception": false,
     "start_time": "2023-07-20T12:16:46.051283",
     "status": "completed"
    },
    "tags": []
   },
   "source": [
    "### Solution"
   ]
  },
  {
   "cell_type": "code",
   "execution_count": 4,
   "id": "de1dbb21",
   "metadata": {
    "execution": {
     "iopub.execute_input": "2023-07-20T12:16:46.073385Z",
     "iopub.status.busy": "2023-07-20T12:16:46.072393Z",
     "iopub.status.idle": "2023-07-20T12:16:46.078145Z",
     "shell.execute_reply": "2023-07-20T12:16:46.077177Z"
    },
    "papermill": {
     "duration": 0.015899,
     "end_time": "2023-07-20T12:16:46.080153",
     "exception": false,
     "start_time": "2023-07-20T12:16:46.064254",
     "status": "completed"
    },
    "tags": []
   },
   "outputs": [
    {
     "name": "stdout",
     "output_type": "stream",
     "text": [
      "[-3000, 900, 1200, 1500]\n"
     ]
    }
   ],
   "source": [
    "cf3 = []\n",
    "\n",
    "for i in cf_a:\n",
    "    num = i * 3\n",
    "    cf3.append(num)\n",
    "    \n",
    "print(cf3)"
   ]
  },
  {
   "cell_type": "markdown",
   "id": "402d8734",
   "metadata": {
    "papermill": {
     "duration": 0.006293,
     "end_time": "2023-07-20T12:16:46.093355",
     "exception": false,
     "start_time": "2023-07-20T12:16:46.087062",
     "status": "completed"
    },
    "tags": []
   },
   "source": [
    "## <font color='IndianRed'>Problem 3</font>"
   ]
  },
  {
   "cell_type": "markdown",
   "id": "a1b2a761",
   "metadata": {
    "papermill": {
     "duration": 0.006423,
     "end_time": "2023-07-20T12:16:46.106725",
     "exception": false,
     "start_time": "2023-07-20T12:16:46.100302",
     "status": "completed"
    },
    "tags": []
   },
   "source": [
    "Some additional costs have arisen so your initial investment turned out to be 3050 dollars for all 3 franchises. Replace the old cash flow from list *cf3* with the new one."
   ]
  },
  {
   "cell_type": "markdown",
   "id": "0526e848",
   "metadata": {
    "papermill": {
     "duration": 0.005985,
     "end_time": "2023-07-20T12:16:46.119188",
     "exception": false,
     "start_time": "2023-07-20T12:16:46.113203",
     "status": "completed"
    },
    "tags": []
   },
   "source": [
    "### Solution"
   ]
  },
  {
   "cell_type": "code",
   "execution_count": 5,
   "id": "18d503ab",
   "metadata": {
    "execution": {
     "iopub.execute_input": "2023-07-20T12:16:46.133963Z",
     "iopub.status.busy": "2023-07-20T12:16:46.133613Z",
     "iopub.status.idle": "2023-07-20T12:16:46.140031Z",
     "shell.execute_reply": "2023-07-20T12:16:46.139295Z"
    },
    "papermill": {
     "duration": 0.016294,
     "end_time": "2023-07-20T12:16:46.142058",
     "exception": false,
     "start_time": "2023-07-20T12:16:46.125764",
     "status": "completed"
    },
    "tags": []
   },
   "outputs": [
    {
     "data": {
      "text/plain": [
       "[-3050, 900, 1200, 1500]"
      ]
     },
     "execution_count": 5,
     "metadata": {},
     "output_type": "execute_result"
    }
   ],
   "source": [
    "cf3.insert(0,-3050)\n",
    "cf3\n",
    "cf3.pop(1)\n",
    "cf3"
   ]
  },
  {
   "cell_type": "markdown",
   "id": "f33dd47b",
   "metadata": {
    "papermill": {
     "duration": 0.007004,
     "end_time": "2023-07-20T12:16:46.155987",
     "exception": false,
     "start_time": "2023-07-20T12:16:46.148983",
     "status": "completed"
    },
    "tags": []
   },
   "source": [
    "## <font color='IndianRed'>Problem 4</font>"
   ]
  },
  {
   "cell_type": "markdown",
   "id": "e50d5412",
   "metadata": {
    "papermill": {
     "duration": 0.006516,
     "end_time": "2023-07-20T12:16:46.169631",
     "exception": false,
     "start_time": "2023-07-20T12:16:46.163115",
     "status": "completed"
    },
    "tags": []
   },
   "source": [
    "Additional cost from previous problem has generated one additional cash flow of 240 dollars which appear in year 4. Add this new cash flow in list *cf3*."
   ]
  },
  {
   "cell_type": "markdown",
   "id": "209bf0a1",
   "metadata": {
    "papermill": {
     "duration": 0.006759,
     "end_time": "2023-07-20T12:16:46.183193",
     "exception": false,
     "start_time": "2023-07-20T12:16:46.176434",
     "status": "completed"
    },
    "tags": []
   },
   "source": [
    "### Solution"
   ]
  },
  {
   "cell_type": "code",
   "execution_count": 6,
   "id": "c575d8bf",
   "metadata": {
    "execution": {
     "iopub.execute_input": "2023-07-20T12:16:46.198371Z",
     "iopub.status.busy": "2023-07-20T12:16:46.197995Z",
     "iopub.status.idle": "2023-07-20T12:16:46.203880Z",
     "shell.execute_reply": "2023-07-20T12:16:46.203106Z"
    },
    "papermill": {
     "duration": 0.015736,
     "end_time": "2023-07-20T12:16:46.205797",
     "exception": false,
     "start_time": "2023-07-20T12:16:46.190061",
     "status": "completed"
    },
    "tags": []
   },
   "outputs": [
    {
     "data": {
      "text/plain": [
       "[-3050, 900, 1200, 1500, 240]"
      ]
     },
     "execution_count": 6,
     "metadata": {},
     "output_type": "execute_result"
    }
   ],
   "source": [
    "cf3.append(240)\n",
    "cf3"
   ]
  },
  {
   "cell_type": "markdown",
   "id": "3c3ab2ba",
   "metadata": {
    "papermill": {
     "duration": 0.006315,
     "end_time": "2023-07-20T12:16:46.218841",
     "exception": false,
     "start_time": "2023-07-20T12:16:46.212526",
     "status": "completed"
    },
    "tags": []
   },
   "source": [
    "## <font color='IndianRed'>Problem 5</font><a id='5'></a>"
   ]
  },
  {
   "cell_type": "markdown",
   "id": "899951e8",
   "metadata": {
    "papermill": {
     "duration": 0.007154,
     "end_time": "2023-07-20T12:16:46.233531",
     "exception": false,
     "start_time": "2023-07-20T12:16:46.226377",
     "status": "completed"
    },
    "tags": []
   },
   "source": [
    "Recall from the class that:"
   ]
  },
  {
   "cell_type": "markdown",
   "id": "b7f26dca",
   "metadata": {
    "papermill": {
     "duration": 0.007123,
     "end_time": "2023-07-20T12:16:46.248040",
     "exception": false,
     "start_time": "2023-07-20T12:16:46.240917",
     "status": "completed"
    },
    "tags": []
   },
   "source": [
    "i=1\n",
    "<br><font color='Green'><b>while</b></font> i<=4:\n",
    "<br>$\\hspace{5mm}$ <font color='DodgerBlue'><b>print<b></font>(i, i**2)\n",
    "<br>$\\hspace{5mm}$ i +=1"
   ]
  },
  {
   "cell_type": "markdown",
   "id": "76f11391",
   "metadata": {
    "papermill": {
     "duration": 0.00726,
     "end_time": "2023-07-20T12:16:46.263258",
     "exception": false,
     "start_time": "2023-07-20T12:16:46.255998",
     "status": "completed"
    },
    "tags": []
   },
   "source": [
    "Using a **while loop** print out of the cumulative sum of cash flows of the project A (i.e. use cash flows from list *cf_a* not *cf3*) along with the year in which they appear. By cumulative cash flow we mean that the in output you need to see:\n",
    "* only initial investment (i.e. $-1000$) in year 0,\n",
    "* at year one output would be $-1000+300 = -700$,\n",
    "* at year 2 output would be $-1000 +300+400 = -300$ etc.\n",
    "\n",
    "Final output should be printed pairs: (year, cum_cash_flow)."
   ]
  },
  {
   "cell_type": "markdown",
   "id": "2cca311f",
   "metadata": {
    "papermill": {
     "duration": 0.007815,
     "end_time": "2023-07-20T12:16:46.279184",
     "exception": false,
     "start_time": "2023-07-20T12:16:46.271369",
     "status": "completed"
    },
    "tags": []
   },
   "source": [
    "### Solution"
   ]
  },
  {
   "cell_type": "code",
   "execution_count": 7,
   "id": "847eed26",
   "metadata": {
    "execution": {
     "iopub.execute_input": "2023-07-20T12:16:46.295518Z",
     "iopub.status.busy": "2023-07-20T12:16:46.295112Z",
     "iopub.status.idle": "2023-07-20T12:16:46.301690Z",
     "shell.execute_reply": "2023-07-20T12:16:46.300454Z"
    },
    "papermill": {
     "duration": 0.017295,
     "end_time": "2023-07-20T12:16:46.303696",
     "exception": false,
     "start_time": "2023-07-20T12:16:46.286401",
     "status": "completed"
    },
    "tags": []
   },
   "outputs": [
    {
     "name": "stdout",
     "output_type": "stream",
     "text": [
      "(0, -1000)\n",
      "(1, -700)\n",
      "(2, -300)\n"
     ]
    }
   ],
   "source": [
    "### Option 1\n",
    "\n",
    "cf_a = [-1000, 300, 400, 500]\n",
    "year = 1\n",
    "cum_cash_flow = cf_a[0]\n",
    "\n",
    "while year < len(cf_a):\n",
    "    print((year-1, cum_cash_flow))\n",
    "    cum_cash_flow += cf_a[year]\n",
    "    year += 1"
   ]
  },
  {
   "cell_type": "code",
   "execution_count": 8,
   "id": "09cfb81c",
   "metadata": {
    "execution": {
     "iopub.execute_input": "2023-07-20T12:16:46.318908Z",
     "iopub.status.busy": "2023-07-20T12:16:46.318635Z",
     "iopub.status.idle": "2023-07-20T12:16:46.324125Z",
     "shell.execute_reply": "2023-07-20T12:16:46.323110Z"
    },
    "papermill": {
     "duration": 0.015378,
     "end_time": "2023-07-20T12:16:46.326149",
     "exception": false,
     "start_time": "2023-07-20T12:16:46.310771",
     "status": "completed"
    },
    "tags": []
   },
   "outputs": [
    {
     "name": "stdout",
     "output_type": "stream",
     "text": [
      "(0, -1000)\n",
      "(1, -700)\n",
      "(2, -300)\n",
      "(3, 200)\n"
     ]
    }
   ],
   "source": [
    "### Option 2\n",
    "\n",
    "cf_a = [-1000, 300, 400, 500]\n",
    "cum_cash_flow = 0  # initial investment\n",
    "year = 0\n",
    "\n",
    "# print out cumulative cash flow for each year\n",
    "while year < len(cf_a):\n",
    "  cum_cash_flow += cf_a[year]\n",
    "  print(f\"({year}, {cum_cash_flow})\")\n",
    "  year += 1"
   ]
  },
  {
   "cell_type": "markdown",
   "id": "006e671a",
   "metadata": {
    "papermill": {
     "duration": 0.006517,
     "end_time": "2023-07-20T12:16:46.339291",
     "exception": false,
     "start_time": "2023-07-20T12:16:46.332774",
     "status": "completed"
    },
    "tags": []
   },
   "source": []
  }
 ],
 "metadata": {
  "kernelspec": {
   "display_name": "Python 3",
   "language": "python",
   "name": "python3"
  },
  "language_info": {
   "codemirror_mode": {
    "name": "ipython",
    "version": 3
   },
   "file_extension": ".py",
   "mimetype": "text/x-python",
   "name": "python",
   "nbconvert_exporter": "python",
   "pygments_lexer": "ipython3",
   "version": "3.10.12"
  },
  "papermill": {
   "default_parameters": {},
   "duration": 11.182084,
   "end_time": "2023-07-20T12:16:47.066429",
   "environment_variables": {},
   "exception": null,
   "input_path": "__notebook__.ipynb",
   "output_path": "__notebook__.ipynb",
   "parameters": {},
   "start_time": "2023-07-20T12:16:35.884345",
   "version": "2.4.0"
  }
 },
 "nbformat": 4,
 "nbformat_minor": 5
}
