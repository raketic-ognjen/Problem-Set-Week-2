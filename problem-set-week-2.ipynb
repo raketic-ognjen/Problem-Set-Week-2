{
 "cells": [
  {
   "cell_type": "code",
   "execution_count": 1,
   "id": "e5f91ec6",
   "metadata": {
    "_cell_guid": "b1076dfc-b9ad-4769-8c92-a6c4dae69d19",
    "_uuid": "8f2839f25d086af736a60e9eeb907d3b93b6e0e5",
    "execution": {
     "iopub.execute_input": "2023-07-20T12:13:35.530930Z",
     "iopub.status.busy": "2023-07-20T12:13:35.530417Z",
     "iopub.status.idle": "2023-07-20T12:13:35.544053Z",
     "shell.execute_reply": "2023-07-20T12:13:35.542842Z"
    },
    "papermill": {
     "duration": 0.024444,
     "end_time": "2023-07-20T12:13:35.546480",
     "exception": false,
     "start_time": "2023-07-20T12:13:35.522036",
     "status": "completed"
    },
    "tags": []
   },
   "outputs": [],
   "source": [
    "# This Python 3 environment comes with many helpful analytics libraries installed\n",
    "# It is defined by the kaggle/python Docker image: https://github.com/kaggle/docker-python\n",
    "# For example, here's several helpful packages to load\n",
    "\n",
    "import numpy as np # linear algebra\n",
    "import pandas as pd # data processing, CSV file I/O (e.g. pd.read_csv)\n",
    "\n",
    "# Input data files are available in the read-only \"../input/\" directory\n",
    "# For example, running this (by clicking run or pressing Shift+Enter) will list all files under the input directory\n",
    "\n",
    "import os\n",
    "for dirname, _, filenames in os.walk('/kaggle/input'):\n",
    "    for filename in filenames:\n",
    "        print(os.path.join(dirname, filename))\n",
    "\n",
    "# You can write up to 20GB to the current directory (/kaggle/working/) that gets preserved as output when you create a version using \"Save & Run All\" \n",
    "# You can also write temporary files to /kaggle/temp/, but they won't be saved outside of the current session"
   ]
  },
  {
   "cell_type": "markdown",
   "id": "348fe5af",
   "metadata": {
    "papermill": {
     "duration": 0.005095,
     "end_time": "2023-07-20T12:13:35.557078",
     "exception": false,
     "start_time": "2023-07-20T12:13:35.551983",
     "status": "completed"
    },
    "tags": []
   },
   "source": [
    "<font color='MediumBlue ' style=\"font-size:40px\"><center><b>Problem Set Week 2</b></center></font>"
   ]
  },
  {
   "cell_type": "markdown",
   "id": "24006729",
   "metadata": {
    "papermill": {
     "duration": 0.005699,
     "end_time": "2023-07-20T12:13:35.568413",
     "exception": false,
     "start_time": "2023-07-20T12:13:35.562714",
     "status": "completed"
    },
    "tags": []
   },
   "source": [
    "## <font color='IndianRed'>Problem 1</font>"
   ]
  },
  {
   "cell_type": "markdown",
   "id": "5823cae7",
   "metadata": {
    "papermill": {
     "duration": 0.004897,
     "end_time": "2023-07-20T12:13:35.578663",
     "exception": false,
     "start_time": "2023-07-20T12:13:35.573766",
     "status": "completed"
    },
    "tags": []
   },
   "source": [
    "Using the for loop and the <font color='DodgerBlue'><b>print<b></font> funtion, print out one below the other all of the cash flows from the list *cf_a* below."
   ]
  },
  {
   "cell_type": "code",
   "execution_count": 2,
   "id": "af5b3741",
   "metadata": {
    "execution": {
     "iopub.execute_input": "2023-07-20T12:13:35.593300Z",
     "iopub.status.busy": "2023-07-20T12:13:35.592680Z",
     "iopub.status.idle": "2023-07-20T12:13:35.598017Z",
     "shell.execute_reply": "2023-07-20T12:13:35.596563Z"
    },
    "papermill": {
     "duration": 0.016167,
     "end_time": "2023-07-20T12:13:35.600247",
     "exception": false,
     "start_time": "2023-07-20T12:13:35.584080",
     "status": "completed"
    },
    "tags": []
   },
   "outputs": [],
   "source": [
    "cf_a = [-1000, 300, 400, 500]"
   ]
  },
  {
   "cell_type": "markdown",
   "id": "24508edc",
   "metadata": {
    "papermill": {
     "duration": 0.004843,
     "end_time": "2023-07-20T12:13:35.610360",
     "exception": false,
     "start_time": "2023-07-20T12:13:35.605517",
     "status": "completed"
    },
    "tags": []
   },
   "source": [
    "### Solution"
   ]
  },
  {
   "cell_type": "code",
   "execution_count": 3,
   "id": "be630d80",
   "metadata": {
    "execution": {
     "iopub.execute_input": "2023-07-20T12:13:35.622891Z",
     "iopub.status.busy": "2023-07-20T12:13:35.621828Z",
     "iopub.status.idle": "2023-07-20T12:13:35.628336Z",
     "shell.execute_reply": "2023-07-20T12:13:35.627266Z"
    },
    "papermill": {
     "duration": 0.014832,
     "end_time": "2023-07-20T12:13:35.630412",
     "exception": false,
     "start_time": "2023-07-20T12:13:35.615580",
     "status": "completed"
    },
    "tags": []
   },
   "outputs": [
    {
     "name": "stdout",
     "output_type": "stream",
     "text": [
      "-1000\n",
      "300\n",
      "400\n",
      "500\n"
     ]
    }
   ],
   "source": [
    "i = 0\n",
    "for i in cf_a:\n",
    "    print(i,end='\\n')\n",
    "    i+=1"
   ]
  },
  {
   "cell_type": "markdown",
   "id": "05589b97",
   "metadata": {
    "papermill": {
     "duration": 0.006138,
     "end_time": "2023-07-20T12:13:35.641850",
     "exception": false,
     "start_time": "2023-07-20T12:13:35.635712",
     "status": "completed"
    },
    "tags": []
   },
   "source": [
    "## <font color='IndianRed'>Problem 2</font>"
   ]
  },
  {
   "cell_type": "markdown",
   "id": "3b70d292",
   "metadata": {
    "papermill": {
     "duration": 0.004834,
     "end_time": "2023-07-20T12:13:35.651830",
     "exception": false,
     "start_time": "2023-07-20T12:13:35.646996",
     "status": "completed"
    },
    "tags": []
   },
   "source": [
    "Suppose you have decided to invest in project A from previous problem with the cash flows in list *cf_a* by franchising it 3 times. Using the list comprehension (see lecture notes) create the new cash flows of the franchised (i.e. tripled) project. Name the created list *cf3*."
   ]
  },
  {
   "cell_type": "markdown",
   "id": "853be3aa",
   "metadata": {
    "papermill": {
     "duration": 0.004863,
     "end_time": "2023-07-20T12:13:35.661922",
     "exception": false,
     "start_time": "2023-07-20T12:13:35.657059",
     "status": "completed"
    },
    "tags": []
   },
   "source": [
    "### Solution"
   ]
  },
  {
   "cell_type": "code",
   "execution_count": 4,
   "id": "058a5b03",
   "metadata": {
    "execution": {
     "iopub.execute_input": "2023-07-20T12:13:35.673902Z",
     "iopub.status.busy": "2023-07-20T12:13:35.673510Z",
     "iopub.status.idle": "2023-07-20T12:13:35.679601Z",
     "shell.execute_reply": "2023-07-20T12:13:35.678409Z"
    },
    "papermill": {
     "duration": 0.01505,
     "end_time": "2023-07-20T12:13:35.682022",
     "exception": false,
     "start_time": "2023-07-20T12:13:35.666972",
     "status": "completed"
    },
    "tags": []
   },
   "outputs": [
    {
     "name": "stdout",
     "output_type": "stream",
     "text": [
      "[-3000, 900, 1200, 1500]\n"
     ]
    }
   ],
   "source": [
    "cf3 = []\n",
    "\n",
    "for i in cf_a:\n",
    "    num = i * 3\n",
    "    cf3.append(num)\n",
    "    \n",
    "print(cf3)"
   ]
  },
  {
   "cell_type": "markdown",
   "id": "c5ab2cff",
   "metadata": {
    "papermill": {
     "duration": 0.0049,
     "end_time": "2023-07-20T12:13:35.692182",
     "exception": false,
     "start_time": "2023-07-20T12:13:35.687282",
     "status": "completed"
    },
    "tags": []
   },
   "source": [
    "## <font color='IndianRed'>Problem 3</font>"
   ]
  },
  {
   "cell_type": "markdown",
   "id": "9913fa3e",
   "metadata": {
    "papermill": {
     "duration": 0.004846,
     "end_time": "2023-07-20T12:13:35.702184",
     "exception": false,
     "start_time": "2023-07-20T12:13:35.697338",
     "status": "completed"
    },
    "tags": []
   },
   "source": [
    "Some additional costs have arisen so your initial investment turned out to be 3050 dollars for all 3 franchises. Replace the old cash flow from list *cf3* with the new one."
   ]
  },
  {
   "cell_type": "markdown",
   "id": "565989f7",
   "metadata": {
    "papermill": {
     "duration": 0.004806,
     "end_time": "2023-07-20T12:13:35.712216",
     "exception": false,
     "start_time": "2023-07-20T12:13:35.707410",
     "status": "completed"
    },
    "tags": []
   },
   "source": [
    "### Solution"
   ]
  },
  {
   "cell_type": "code",
   "execution_count": 5,
   "id": "afe32a44",
   "metadata": {
    "execution": {
     "iopub.execute_input": "2023-07-20T12:13:35.724957Z",
     "iopub.status.busy": "2023-07-20T12:13:35.724568Z",
     "iopub.status.idle": "2023-07-20T12:13:35.732006Z",
     "shell.execute_reply": "2023-07-20T12:13:35.730905Z"
    },
    "papermill": {
     "duration": 0.016989,
     "end_time": "2023-07-20T12:13:35.734338",
     "exception": false,
     "start_time": "2023-07-20T12:13:35.717349",
     "status": "completed"
    },
    "tags": []
   },
   "outputs": [
    {
     "data": {
      "text/plain": [
       "[-3050, 900, 1200, 1500]"
      ]
     },
     "execution_count": 5,
     "metadata": {},
     "output_type": "execute_result"
    }
   ],
   "source": [
    "cf3.insert(0,-3050)\n",
    "cf3\n",
    "cf3.pop(1)\n",
    "cf3"
   ]
  },
  {
   "cell_type": "markdown",
   "id": "93810bb4",
   "metadata": {
    "papermill": {
     "duration": 0.005309,
     "end_time": "2023-07-20T12:13:35.745209",
     "exception": false,
     "start_time": "2023-07-20T12:13:35.739900",
     "status": "completed"
    },
    "tags": []
   },
   "source": [
    "## <font color='IndianRed'>Problem 4</font>"
   ]
  },
  {
   "cell_type": "markdown",
   "id": "87fa167d",
   "metadata": {
    "papermill": {
     "duration": 0.005104,
     "end_time": "2023-07-20T12:13:35.756106",
     "exception": false,
     "start_time": "2023-07-20T12:13:35.751002",
     "status": "completed"
    },
    "tags": []
   },
   "source": [
    "Additional cost from previous problem has generated one additional cash flow of 240 dollars which appear in year 4. Add this new cash flow in list *cf3*."
   ]
  },
  {
   "cell_type": "markdown",
   "id": "50c3465a",
   "metadata": {
    "papermill": {
     "duration": 0.00511,
     "end_time": "2023-07-20T12:13:35.766616",
     "exception": false,
     "start_time": "2023-07-20T12:13:35.761506",
     "status": "completed"
    },
    "tags": []
   },
   "source": [
    "### Solution"
   ]
  },
  {
   "cell_type": "code",
   "execution_count": 6,
   "id": "299a83f7",
   "metadata": {
    "execution": {
     "iopub.execute_input": "2023-07-20T12:13:35.780239Z",
     "iopub.status.busy": "2023-07-20T12:13:35.778862Z",
     "iopub.status.idle": "2023-07-20T12:13:35.786534Z",
     "shell.execute_reply": "2023-07-20T12:13:35.785541Z"
    },
    "papermill": {
     "duration": 0.016435,
     "end_time": "2023-07-20T12:13:35.788577",
     "exception": false,
     "start_time": "2023-07-20T12:13:35.772142",
     "status": "completed"
    },
    "tags": []
   },
   "outputs": [
    {
     "data": {
      "text/plain": [
       "[-3050, 900, 1200, 1500, 240]"
      ]
     },
     "execution_count": 6,
     "metadata": {},
     "output_type": "execute_result"
    }
   ],
   "source": [
    "cf3.append(240)\n",
    "cf3"
   ]
  },
  {
   "cell_type": "markdown",
   "id": "d8e51e10",
   "metadata": {
    "papermill": {
     "duration": 0.005307,
     "end_time": "2023-07-20T12:13:35.799449",
     "exception": false,
     "start_time": "2023-07-20T12:13:35.794142",
     "status": "completed"
    },
    "tags": []
   },
   "source": [
    "## <font color='IndianRed'>Problem 5</font><a id='5'></a>"
   ]
  },
  {
   "cell_type": "markdown",
   "id": "41e062e9",
   "metadata": {
    "papermill": {
     "duration": 0.005317,
     "end_time": "2023-07-20T12:13:35.810327",
     "exception": false,
     "start_time": "2023-07-20T12:13:35.805010",
     "status": "completed"
    },
    "tags": []
   },
   "source": [
    "Recall from the class that:"
   ]
  },
  {
   "cell_type": "markdown",
   "id": "c5c3615a",
   "metadata": {
    "papermill": {
     "duration": 0.005217,
     "end_time": "2023-07-20T12:13:35.821042",
     "exception": false,
     "start_time": "2023-07-20T12:13:35.815825",
     "status": "completed"
    },
    "tags": []
   },
   "source": [
    "i=1\n",
    "<br><font color='Green'><b>while</b></font> i<=4:\n",
    "<br>$\\hspace{5mm}$ <font color='DodgerBlue'><b>print<b></font>(i, i**2)\n",
    "<br>$\\hspace{5mm}$ i +=1"
   ]
  },
  {
   "cell_type": "markdown",
   "id": "0a866a73",
   "metadata": {
    "papermill": {
     "duration": 0.005229,
     "end_time": "2023-07-20T12:13:35.831815",
     "exception": false,
     "start_time": "2023-07-20T12:13:35.826586",
     "status": "completed"
    },
    "tags": []
   },
   "source": [
    "Using a **while loop** print out of the cumulative sum of cash flows of the project A (i.e. use cash flows from list *cf_a* not *cf3*) along with the year in which they appear. By cumulative cash flow we mean that the in output you need to see:\n",
    "* only initial investment (i.e. $-1000$) in year 0,\n",
    "* at year one output would be $-1000+300 = -700$,\n",
    "* at year 2 output would be $-1000 +300+400 = -300$ etc.\n",
    "\n",
    "Final output should be printed pairs: (year, cum_cash_flow)."
   ]
  },
  {
   "cell_type": "markdown",
   "id": "0b4f4220",
   "metadata": {
    "papermill": {
     "duration": 0.005111,
     "end_time": "2023-07-20T12:13:35.842546",
     "exception": false,
     "start_time": "2023-07-20T12:13:35.837435",
     "status": "completed"
    },
    "tags": []
   },
   "source": [
    "### Solution"
   ]
  },
  {
   "cell_type": "code",
   "execution_count": 7,
   "id": "e9c60c39",
   "metadata": {
    "execution": {
     "iopub.execute_input": "2023-07-20T12:13:35.856071Z",
     "iopub.status.busy": "2023-07-20T12:13:35.855347Z",
     "iopub.status.idle": "2023-07-20T12:13:35.861387Z",
     "shell.execute_reply": "2023-07-20T12:13:35.860152Z"
    },
    "papermill": {
     "duration": 0.015158,
     "end_time": "2023-07-20T12:13:35.863467",
     "exception": false,
     "start_time": "2023-07-20T12:13:35.848309",
     "status": "completed"
    },
    "tags": []
   },
   "outputs": [
    {
     "name": "stdout",
     "output_type": "stream",
     "text": [
      "(0, -1000)\n",
      "(1, -700)\n",
      "(2, -300)\n"
     ]
    }
   ],
   "source": [
    "cf_a = [-1000, 300, 400, 500]\n",
    "year = 1\n",
    "cum_cash_flow = cf_a[0]\n",
    "\n",
    "while year < len(cf_a):\n",
    "    print((year-1, cum_cash_flow))\n",
    "    cum_cash_flow += cf_a[year]\n",
    "    year += 1"
   ]
  },
  {
   "cell_type": "markdown",
   "id": "80868d15",
   "metadata": {
    "papermill": {
     "duration": 0.005477,
     "end_time": "2023-07-20T12:13:35.874413",
     "exception": false,
     "start_time": "2023-07-20T12:13:35.868936",
     "status": "completed"
    },
    "tags": []
   },
   "source": []
  }
 ],
 "metadata": {
  "kernelspec": {
   "display_name": "Python 3",
   "language": "python",
   "name": "python3"
  },
  "language_info": {
   "codemirror_mode": {
    "name": "ipython",
    "version": 3
   },
   "file_extension": ".py",
   "mimetype": "text/x-python",
   "name": "python",
   "nbconvert_exporter": "python",
   "pygments_lexer": "ipython3",
   "version": "3.10.12"
  },
  "papermill": {
   "default_parameters": {},
   "duration": 11.0496,
   "end_time": "2023-07-20T12:13:36.701891",
   "environment_variables": {},
   "exception": null,
   "input_path": "__notebook__.ipynb",
   "output_path": "__notebook__.ipynb",
   "parameters": {},
   "start_time": "2023-07-20T12:13:25.652291",
   "version": "2.4.0"
  }
 },
 "nbformat": 4,
 "nbformat_minor": 5
}
